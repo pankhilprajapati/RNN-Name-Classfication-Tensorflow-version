{
 "cells": [
  {
   "cell_type": "code",
   "execution_count": 4,
   "id": "e7e0abc4-921a-4fac-97f2-3f3d551d5f09",
   "metadata": {},
   "outputs": [],
   "source": [
    "import tensorflow as tf\n",
    "import numpy as np\n",
    "import pandas as pd\n",
    "import glob\n",
    "import os \n",
    "import string\n",
    "import unicodedata\n",
    "\n",
    "from sklearn.model_selection import train_test_split\n",
    "\n",
    "from tensorflow.keras.layers import GRU, Dense,Input, SimpleRNN, Reshape, LSTM\n",
    "from tensorflow.keras.models import Sequential\n",
    "from tensorflow.keras.callbacks import ModelCheckpoint, EarlyStopping, TensorBoard, ReduceLROnPlateau\n"
   ]
  },
  {
   "cell_type": "code",
   "execution_count": 117,
   "id": "7d73d5b5-2e3b-4f66-a210-c197e3b7f056",
   "metadata": {},
   "outputs": [],
   "source": [
    "## download the data\n",
    "\n",
    "!wget https://download.pytorch.org/tutorial/data.zip\n",
    "!unzip data.zip\n",
    "!ls \n",
    "\n",
    "\n",
    "# extract"
   ]
  },
  {
   "cell_type": "code",
   "execution_count": 20,
   "id": "b73ece61-b1a8-412a-abbd-1822afaf7bbe",
   "metadata": {},
   "outputs": [
    {
     "data": {
      "text/plain": [
       "57"
      ]
     },
     "execution_count": 20,
     "metadata": {},
     "output_type": "execute_result"
    }
   ],
   "source": [
    "allowed_chars = string.ascii_letters + ',.;\"' + \"_\" ## this is our vocab  to filter the unknown words \n",
    "n_letters = len(allowed_chars)\n",
    "n_letters"
   ]
  },
  {
   "cell_type": "code",
   "execution_count": 21,
   "id": "4d45d510-df4a-47bb-a9e5-f2c02b2f5679",
   "metadata": {},
   "outputs": [],
   "source": [
    "def unicodeASCII(s):\n",
    "    return \"\".join(\n",
    "        c for c in unicodedata.normalize('NFD',s)\n",
    "        if unicodedata.category(c) != \"Mn\" \n",
    "        and c in allowed_chars\n",
    "    )"
   ]
  },
  {
   "cell_type": "code",
   "execution_count": 22,
   "id": "282eec2b-64b2-4b12-b78f-4afa9901edff",
   "metadata": {},
   "outputs": [],
   "source": [
    "# e.g. a = '0'\n",
    "def lettertoindex(letter):\n",
    "    if letter not in allowed_chars:\n",
    "        return allowed_chars.find('_')\n",
    "    else:\n",
    "        return allowed_chars.find(letter)"
   ]
  },
  {
   "cell_type": "code",
   "execution_count": 23,
   "id": "622ccf6a-3fe6-4ab8-95c7-bb940d9b3374",
   "metadata": {},
   "outputs": [],
   "source": [
    "## array of one hot code letter\n",
    "## <line_length * 1 * n_letters >\n",
    "def linetotensor(padding_size,line):\n",
    "    tensor = tf.zeros([padding_size, 1, n_letters], dtype=tf.float32)\n",
    "    for li, letter in enumerate(line):\n",
    "        tensor = tf.tensor_scatter_nd_update(tensor, [[li, 0, lettertoindex(letter)]], [1.0])\n",
    "\n",
    "    return tensor"
   ]
  },
  {
   "cell_type": "code",
   "execution_count": 24,
   "id": "4f65823c-39c0-4fab-a945-741b32d5b5d2",
   "metadata": {},
   "outputs": [],
   "source": [
    "padding_size=19 ## "
   ]
  },
  {
   "cell_type": "code",
   "execution_count": 25,
   "id": "2aa96998-4f03-4701-b1b3-621875c62bc5",
   "metadata": {},
   "outputs": [],
   "source": [
    "label = []\n",
    "data_tensor = []\n",
    "data = []\n",
    "labels = []\n",
    "label_tensor = []\n",
    "for filename in glob.glob('data/names/*.txt'):\n",
    "    lang = os.path.basename(filename).split(\".\")[0]\n",
    "    label.append(lang)\n",
    "\n",
    "    lines = open(filename, encoding='utf-8').read().strip().split(\"\\n\")\n",
    "    for name in lines: \n",
    "        data.append(unicodeASCII(name))\n",
    "        data_tensor.append(linetotensor(padding_size,name))\n",
    "        labels.append(lang)\n",
    "\n",
    "        "
   ]
  },
  {
   "cell_type": "code",
   "execution_count": 26,
   "id": "7f0b097b-10b3-4ec3-881b-b385800ab2a1",
   "metadata": {},
   "outputs": [],
   "source": [
    "label_to_index = {l: i for i, l in enumerate(label)}\n",
    "label_tensor = tf.constant(\n",
    "    [label_to_index[label] for label in labels], dtype=tf.int64\n",
    ")"
   ]
  },
  {
   "cell_type": "code",
   "execution_count": null,
   "id": "cd41ae9d-61a6-4569-b09d-6a43ebb03fa5",
   "metadata": {},
   "outputs": [],
   "source": []
  },
  {
   "cell_type": "code",
   "execution_count": 27,
   "id": "081c5cc3-191a-49e8-97b3-3f8954d708f8",
   "metadata": {},
   "outputs": [
    {
     "data": {
      "text/plain": [
       "TensorShape([20074, 19, 1, 57])"
      ]
     },
     "execution_count": 27,
     "metadata": {},
     "output_type": "execute_result"
    }
   ],
   "source": [
    "stack_tensor = tf.stack(data_tensor)\n",
    "stack_tensor.shape"
   ]
  },
  {
   "cell_type": "code",
   "execution_count": 28,
   "id": "afc32f50-caac-4ac0-a789-da74eebf621d",
   "metadata": {},
   "outputs": [
    {
     "data": {
      "text/plain": [
       "TensorShape([20074])"
      ]
     },
     "execution_count": 28,
     "metadata": {},
     "output_type": "execute_result"
    }
   ],
   "source": [
    "label_tensor = tf.stack(label_tensor)\n",
    "label_tensor.shape"
   ]
  },
  {
   "cell_type": "code",
   "execution_count": 29,
   "id": "4dec97b5-42da-45db-91dd-7b0c72d7d285",
   "metadata": {},
   "outputs": [],
   "source": [
    "X = tf.reshape(stack_tensor, [20074, 19, 57])"
   ]
  },
  {
   "cell_type": "code",
   "execution_count": 30,
   "id": "d492d15d-2fda-4e1f-aa70-43397f77e95e",
   "metadata": {},
   "outputs": [],
   "source": [
    "X_train, X_test, y_train, y_test = train_test_split(\n",
    "    stack_tensor.numpy(), label_tensor.numpy(), test_size=0.33, random_state=42)"
   ]
  },
  {
   "cell_type": "code",
   "execution_count": 31,
   "id": "ca24ef4b-4d3a-4bf7-b4d3-8b9b2f9ae07e",
   "metadata": {},
   "outputs": [
    {
     "data": {
      "text/plain": [
       "(13449, 19, 1, 57)"
      ]
     },
     "execution_count": 31,
     "metadata": {},
     "output_type": "execute_result"
    }
   ],
   "source": [
    "X_train.shape"
   ]
  },
  {
   "cell_type": "code",
   "execution_count": 32,
   "id": "256a29c4-038c-423f-b67e-5cd82bd4d78a",
   "metadata": {},
   "outputs": [
    {
     "data": {
      "text/plain": [
       "(13449,)"
      ]
     },
     "execution_count": 32,
     "metadata": {},
     "output_type": "execute_result"
    }
   ],
   "source": [
    "y_train.shape"
   ]
  },
  {
   "cell_type": "code",
   "execution_count": 33,
   "id": "5ff2f96d-17a0-46ff-a62c-2cdc8f3ec2ca",
   "metadata": {
    "scrolled": true
   },
   "outputs": [
    {
     "name": "stdout",
     "output_type": "stream",
     "text": [
      "Epoch 1/10\n"
     ]
    },
    {
     "name": "stderr",
     "output_type": "stream",
     "text": [
      "2025-07-24 15:04:31.354827: I tensorflow/core/grappler/optimizers/custom_graph_optimizer_registry.cc:117] Plugin optimizer for device_type GPU is enabled.\n"
     ]
    },
    {
     "name": "stdout",
     "output_type": "stream",
     "text": [
      "\u001b[1m421/421\u001b[0m \u001b[32m━━━━━━━━━━━━━━━━━━━━\u001b[0m\u001b[37m\u001b[0m \u001b[1m8s\u001b[0m 15ms/step - accuracy: 0.5016 - loss: 1.7888\n",
      "Epoch 2/10\n",
      "\u001b[1m421/421\u001b[0m \u001b[32m━━━━━━━━━━━━━━━━━━━━\u001b[0m\u001b[37m\u001b[0m \u001b[1m6s\u001b[0m 15ms/step - accuracy: 0.5615 - loss: 1.4355\n",
      "Epoch 3/10\n",
      "\u001b[1m421/421\u001b[0m \u001b[32m━━━━━━━━━━━━━━━━━━━━\u001b[0m\u001b[37m\u001b[0m \u001b[1m6s\u001b[0m 14ms/step - accuracy: 0.6417 - loss: 1.2225\n",
      "Epoch 4/10\n",
      "\u001b[1m421/421\u001b[0m \u001b[32m━━━━━━━━━━━━━━━━━━━━\u001b[0m\u001b[37m\u001b[0m \u001b[1m6s\u001b[0m 15ms/step - accuracy: 0.6922 - loss: 1.0778\n",
      "Epoch 5/10\n",
      "\u001b[1m421/421\u001b[0m \u001b[32m━━━━━━━━━━━━━━━━━━━━\u001b[0m\u001b[37m\u001b[0m \u001b[1m6s\u001b[0m 15ms/step - accuracy: 0.7120 - loss: 0.9868\n",
      "Epoch 6/10\n",
      "\u001b[1m421/421\u001b[0m \u001b[32m━━━━━━━━━━━━━━━━━━━━\u001b[0m\u001b[37m\u001b[0m \u001b[1m6s\u001b[0m 14ms/step - accuracy: 0.7473 - loss: 0.8516\n",
      "Epoch 7/10\n",
      "\u001b[1m421/421\u001b[0m \u001b[32m━━━━━━━━━━━━━━━━━━━━\u001b[0m\u001b[37m\u001b[0m \u001b[1m6s\u001b[0m 14ms/step - accuracy: 0.7592 - loss: 0.7940\n",
      "Epoch 8/10\n",
      "\u001b[1m421/421\u001b[0m \u001b[32m━━━━━━━━━━━━━━━━━━━━\u001b[0m\u001b[37m\u001b[0m \u001b[1m7s\u001b[0m 16ms/step - accuracy: 0.7976 - loss: 0.6837\n",
      "Epoch 9/10\n",
      "\u001b[1m421/421\u001b[0m \u001b[32m━━━━━━━━━━━━━━━━━━━━\u001b[0m\u001b[37m\u001b[0m \u001b[1m6s\u001b[0m 15ms/step - accuracy: 0.8090 - loss: 0.6365\n",
      "Epoch 10/10\n",
      "\u001b[1m421/421\u001b[0m \u001b[32m━━━━━━━━━━━━━━━━━━━━\u001b[0m\u001b[37m\u001b[0m \u001b[1m6s\u001b[0m 15ms/step - accuracy: 0.8092 - loss: 0.6150\n"
     ]
    }
   ],
   "source": [
    "model = tf.keras.Sequential([\n",
    "    Input(shape=(19, 1, 57)),  # (seq_len, input_dim)\n",
    "    Reshape((19,57)),\n",
    "    GRU(128, return_sequences=True),\n",
    "    GRU(64, return_sequences=False),  # collapse to a single vector\n",
    "    Dense(18)  # logits for each character\n",
    "])\n",
    "\n",
    "model.compile(optimizer='adam',\n",
    "              loss=tf.keras.losses.SparseCategoricalCrossentropy(from_logits=True),\n",
    "              metrics=['accuracy'])\n",
    "\n",
    "# Train the model using the datasets\n",
    "history = model.fit(\n",
    "    X_train,\n",
    "    y_train,\n",
    "    epochs=10\n",
    ")"
   ]
  },
  {
   "cell_type": "code",
   "execution_count": 34,
   "id": "e3e4e61d-f531-4de3-bdc9-fe7da47154ab",
   "metadata": {},
   "outputs": [
    {
     "name": "stdout",
     "output_type": "stream",
     "text": [
      "\u001b[1m208/208\u001b[0m \u001b[32m━━━━━━━━━━━━━━━━━━━━\u001b[0m\u001b[37m\u001b[0m \u001b[1m2s\u001b[0m 6ms/step - accuracy: 0.8077 - loss: 0.6494   \n"
     ]
    },
    {
     "data": {
      "text/plain": [
       "[0.6504217982292175, 0.8072452545166016]"
      ]
     },
     "execution_count": 34,
     "metadata": {},
     "output_type": "execute_result"
    }
   ],
   "source": [
    "model.evaluate(X_test, y_test)"
   ]
  },
  {
   "cell_type": "code",
   "execution_count": 35,
   "id": "20de6d94-c733-41f0-bf72-76391591dd2e",
   "metadata": {},
   "outputs": [],
   "source": [
    "def final(string):\n",
    "    x_tensor = tf.stack([linetotensor(19,string)]).numpy()\n",
    "    \n",
    "    print(x_tensor.shape)\n",
    "    y_pred = model.predict(x_tensor)\n",
    "    print(y_pred)\n",
    "    print(np.max(y_pred))\n",
    "    print(np.argmax(y_pred))\n",
    "    print(label[np.argmax(y_pred)])"
   ]
  },
  {
   "cell_type": "code",
   "execution_count": 37,
   "id": "3fa43c05-2853-4cc0-91c4-a1be7beefa7d",
   "metadata": {},
   "outputs": [
    {
     "name": "stdout",
     "output_type": "stream",
     "text": [
      "(1, 19, 1, 57)\n",
      "\u001b[1m1/1\u001b[0m \u001b[32m━━━━━━━━━━━━━━━━━━━━\u001b[0m\u001b[37m\u001b[0m \u001b[1m0s\u001b[0m 24ms/step\n",
      "[[ 0.8560317   1.5358819  -3.678173   -1.3073558   3.166499    1.4431534\n",
      "   2.8836186  -0.16970715 -0.853975    1.872832   -1.594791   -5.8278213\n",
      "  -2.9944756  -3.286798   -0.44954425  0.8594639   2.3807886  -0.6029743 ]]\n",
      "3.166499\n",
      "4\n",
      "Chinese\n"
     ]
    }
   ],
   "source": [
    "final(\"Lim\")"
   ]
  },
  {
   "cell_type": "code",
   "execution_count": 38,
   "id": "3f6107f3-e47e-4d9d-a9f0-05b95c353d2f",
   "metadata": {},
   "outputs": [
    {
     "name": "stdout",
     "output_type": "stream",
     "text": [
      "(1, 19, 1, 57)\n",
      "\u001b[1m1/1\u001b[0m \u001b[32m━━━━━━━━━━━━━━━━━━━━\u001b[0m\u001b[37m\u001b[0m \u001b[1m0s\u001b[0m 25ms/step\n",
      "[[-1.4320738  -0.23421931  0.8101196  -1.0053353   1.9245406   1.6501503\n",
      "  -0.8048004   0.17018664  0.86441076  2.362224   -0.4632218  -3.470611\n",
      "  -1.672115   -1.645464    0.63834655  0.51051444  0.9321553  -2.647535  ]]\n",
      "2.362224\n",
      "9\n",
      "English\n"
     ]
    }
   ],
   "source": [
    "final(\"Doan\") ## vietnamese"
   ]
  },
  {
   "cell_type": "code",
   "execution_count": 39,
   "id": "e7f28bf7-a64e-4d7c-9f13-2df00a4a3ed5",
   "metadata": {},
   "outputs": [
    {
     "name": "stdout",
     "output_type": "stream",
     "text": [
      "(1, 19, 1, 57)\n",
      "\u001b[1m1/1\u001b[0m \u001b[32m━━━━━━━━━━━━━━━━━━━━\u001b[0m\u001b[37m\u001b[0m \u001b[1m0s\u001b[0m 23ms/step\n",
      "[[ 2.0409513   4.4533224  -3.2791214  -4.776714   -3.3670495  -2.6965394\n",
      "   3.7987828   1.9304963   1.3126      4.350738   -1.5034257  -3.360139\n",
      "  -2.6118236  -3.2294836   0.89208055  2.3163865  -3.815109   -0.89799297]]\n",
      "4.4533224\n",
      "1\n",
      "German\n"
     ]
    }
   ],
   "source": [
    "final(\"Blanchet\") ### French"
   ]
  },
  {
   "cell_type": "code",
   "execution_count": 40,
   "id": "e555c862-a134-4635-9526-bad5f4e8187f",
   "metadata": {},
   "outputs": [
    {
     "name": "stdout",
     "output_type": "stream",
     "text": [
      "(1, 19, 1, 57)\n",
      "\u001b[1m1/1\u001b[0m \u001b[32m━━━━━━━━━━━━━━━━━━━━\u001b[0m\u001b[37m\u001b[0m \u001b[1m0s\u001b[0m 24ms/step\n",
      "[[-1.5512791   1.2216533   9.066005   -1.0540825  -1.7421452  -1.5050036\n",
      "   0.09800085  0.6156283   1.1393691   2.5814714  -1.5241945  -1.8248608\n",
      "  -2.1964374  -3.058744   -0.28902304 -0.85306704 -3.117776   -4.0447483 ]]\n",
      "9.066005\n",
      "2\n",
      "Arabic\n"
     ]
    }
   ],
   "source": [
    "final(\"Asghar\")"
   ]
  },
  {
   "cell_type": "code",
   "execution_count": 41,
   "id": "d5bb622b-e363-4447-96d3-30eb268d6caf",
   "metadata": {},
   "outputs": [
    {
     "name": "stdout",
     "output_type": "stream",
     "text": [
      "(1, 19, 1, 57)\n",
      "\u001b[1m1/1\u001b[0m \u001b[32m━━━━━━━━━━━━━━━━━━━━\u001b[0m\u001b[37m\u001b[0m \u001b[1m0s\u001b[0m 25ms/step\n",
      "[[ 1.7345665  -1.4712     -0.7013244   3.8088145  -1.4036216  -2.8867974\n",
      "   3.7853346  -1.6911079  -3.2057846   0.8119607   0.36692214 -2.6621525\n",
      "   0.2035069  -1.0779388  -4.0033216  -2.0335743  -2.5826683  -1.000054  ]]\n",
      "3.8088145\n",
      "3\n",
      "Japanese\n"
     ]
    }
   ],
   "source": [
    "final(\"Chiba\")"
   ]
  },
  {
   "cell_type": "code",
   "execution_count": 45,
   "id": "764297e0-a1fd-464a-96f6-cf166b9fb20d",
   "metadata": {},
   "outputs": [
    {
     "name": "stdout",
     "output_type": "stream",
     "text": [
      "(1, 19, 1, 57)\n",
      "\u001b[1m1/1\u001b[0m \u001b[32m━━━━━━━━━━━━━━━━━━━━\u001b[0m\u001b[37m\u001b[0m \u001b[1m0s\u001b[0m 26ms/step\n",
      "[[-0.068205   -0.86237097 -3.220135    2.8633046   2.635798    1.1689695\n",
      "   0.97723424 -0.91806424 -0.960811   -0.546975    0.34671068 -4.5185823\n",
      "   0.9581591  -0.18554457 -2.6950767  -0.92090595  2.6367922  -0.9806401 ]]\n",
      "2.8633046\n",
      "3\n",
      "Japanese\n"
     ]
    }
   ],
   "source": [
    "final(\"Sai\")"
   ]
  },
  {
   "cell_type": "code",
   "execution_count": 114,
   "id": "b7454ca6-b9fb-4d33-89f1-41b5bd68d35c",
   "metadata": {},
   "outputs": [
    {
     "data": {
      "image/png": "[encoded data removed]",
      "text/plain": [
       "<Figure size 1200x500 with 2 Axes>"
      ]
     },
     "metadata": {},
     "output_type": "display_data"
    }
   ],
   "source": [
    "import matplotlib.pyplot as plt\n",
    "\n",
    "# Plotting\n",
    "plt.figure(figsize=(12, 5))\n",
    "\n",
    "# Plot loss\n",
    "plt.subplot(1, 2, 1)\n",
    "plt.plot(history.history['loss'], label='Loss', marker='o')\n",
    "plt.title('Training Loss')\n",
    "plt.xlabel('Epoch')\n",
    "plt.ylabel('Loss')\n",
    "plt.grid(True)\n",
    "plt.legend()\n",
    "\n",
    "# Plot accuracy (if tracked)\n",
    "if 'accuracy' in history.history:\n",
    "    plt.subplot(1, 2, 2)\n",
    "    plt.plot(history.history['accuracy'], label='Accuracy', color='green', marker='o')\n",
    "    plt.title('Training Accuracy')\n",
    "    plt.xlabel('Epoch')\n",
    "    plt.ylabel('Accuracy')\n",
    "    plt.grid(True)\n",
    "    plt.legend()\n",
    "\n",
    "plt.tight_layout()\n",
    "plt.show()\n"
   ]
  },
  {
   "cell_type": "code",
   "execution_count": null,
   "id": "d3f9f7ae-4246-460b-b790-1400e3c34c8a",
   "metadata": {},
   "outputs": [],
   "source": []
  }
 ],
 "metadata": {
  "kernelspec": {
   "display_name": "Python 3 (ipykernel)",
   "language": "python",
   "name": "python3"
  },
  "language_info": {
   "codemirror_mode": {
    "name": "ipython",
    "version": 3
   },
   "file_extension": ".py",
   "mimetype": "text/x-python",
   "name": "python",
   "nbconvert_exporter": "python",
   "pygments_lexer": "ipython3",
   "version": "3.10.12"
  }
 },
 "nbformat": 4,
 "nbformat_minor": 5
}
